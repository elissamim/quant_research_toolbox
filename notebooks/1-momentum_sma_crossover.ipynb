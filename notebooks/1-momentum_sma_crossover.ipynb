{
 "cells": [
  {
   "cell_type": "code",
   "execution_count": 1,
   "id": "d8eecd4d-6493-4579-b928-4fce71c89df6",
   "metadata": {},
   "outputs": [],
   "source": [
    "%load_ext autoreload\n",
    "%autoreload 2"
   ]
  },
  {
   "cell_type": "code",
   "execution_count": 2,
   "id": "18049611-5dbc-44f8-9c65-8bcfe6368f68",
   "metadata": {},
   "outputs": [],
   "source": [
    "import pandas as pd\n",
    "import yfinance\n",
    "\n",
    "import sys\n",
    "sys.path.append(\"../quant_research_toolbox\")\n",
    "from alpha_research import *"
   ]
  },
  {
   "cell_type": "code",
   "execution_count": 5,
   "id": "83f15592-eea8-40e8-9c18-b37c8fe09837",
   "metadata": {},
   "outputs": [
    {
     "name": "stderr",
     "output_type": "stream",
     "text": [
      "/tmp/ipykernel_2478/588207970.py:1: FutureWarning: YF.download() has changed argument auto_adjust default to True\n",
      "  df_aapl = yfinance.download(\"AAPL\", start=\"2020-01-01\", end=\"2024-12-31\")\n",
      "[*********************100%***********************]  1 of 1 completed\n"
     ]
    }
   ],
   "source": [
    "df_aapl = yfinance.download(\"AAPL\", start=\"2020-01-01\", end=\"2024-12-31\")\n",
    "df_aapl.columns = [col[0] for col in df_aapl.columns]\n",
    "df_aapl[\"mean_price\"] = df_aapl[[\"Close\", \"High\", \"Low\", \"Open\"]].mean(1)\n",
    "\n",
    "df_aapl_signals = sma_crossover(df_aapl, \"mean_price\")"
   ]
  }
 ],
 "metadata": {
  "kernelspec": {
   "display_name": "Python 3 (ipykernel)",
   "language": "python",
   "name": "python3"
  },
  "language_info": {
   "codemirror_mode": {
    "name": "ipython",
    "version": 3
   },
   "file_extension": ".py",
   "mimetype": "text/x-python",
   "name": "python",
   "nbconvert_exporter": "python",
   "pygments_lexer": "ipython3",
   "version": "3.13.5"
  }
 },
 "nbformat": 4,
 "nbformat_minor": 5
}
