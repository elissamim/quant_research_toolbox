{
 "cells": [
  {
   "cell_type": "code",
   "execution_count": 1,
   "id": "d8eecd4d-6493-4579-b928-4fce71c89df6",
   "metadata": {},
   "outputs": [],
   "source": [
    "%load_ext autoreload\n",
    "%autoreload 2"
   ]
  },
  {
   "cell_type": "code",
   "execution_count": 2,
   "id": "18049611-5dbc-44f8-9c65-8bcfe6368f68",
   "metadata": {},
   "outputs": [],
   "source": [
    "import pandas as pd\n",
    "import yfinance\n",
    "\n",
    "import sys\n",
    "sys.path.append(\"../quant_research_toolbox\")\n",
    "from alpha_research import *"
   ]
  },
  {
   "cell_type": "code",
   "execution_count": 11,
   "id": "83f15592-eea8-40e8-9c18-b37c8fe09837",
   "metadata": {},
   "outputs": [
    {
     "name": "stderr",
     "output_type": "stream",
     "text": [
      "/tmp/ipykernel_2478/850962610.py:1: FutureWarning: YF.download() has changed argument auto_adjust default to True\n",
      "  df_aapl = yfinance.download(\"AAPL\", start=\"2020-01-01\", end=\"2024-12-31\")\n",
      "[*********************100%***********************]  1 of 1 completed\n"
     ]
    },
    {
     "data": {
      "text/html": [
       "<div>\n",
       "<style scoped>\n",
       "    .dataframe tbody tr th:only-of-type {\n",
       "        vertical-align: middle;\n",
       "    }\n",
       "\n",
       "    .dataframe tbody tr th {\n",
       "        vertical-align: top;\n",
       "    }\n",
       "\n",
       "    .dataframe thead th {\n",
       "        text-align: right;\n",
       "    }\n",
       "</style>\n",
       "<table border=\"1\" class=\"dataframe\">\n",
       "  <thead>\n",
       "    <tr style=\"text-align: right;\">\n",
       "      <th></th>\n",
       "      <th>fast_sma</th>\n",
       "      <th>slow_sma</th>\n",
       "      <th>signal</th>\n",
       "      <th>orders</th>\n",
       "    </tr>\n",
       "    <tr>\n",
       "      <th>Date</th>\n",
       "      <th></th>\n",
       "      <th></th>\n",
       "      <th></th>\n",
       "      <th></th>\n",
       "    </tr>\n",
       "  </thead>\n",
       "  <tbody>\n",
       "    <tr>\n",
       "      <th>2020-01-02</th>\n",
       "      <td>72.075580</td>\n",
       "      <td>72.075580</td>\n",
       "      <td>0</td>\n",
       "      <td>NaN</td>\n",
       "    </tr>\n",
       "    <tr>\n",
       "      <th>2020-01-03</th>\n",
       "      <td>72.053832</td>\n",
       "      <td>72.053832</td>\n",
       "      <td>0</td>\n",
       "      <td>NaN</td>\n",
       "    </tr>\n",
       "    <tr>\n",
       "      <th>2020-01-06</th>\n",
       "      <td>71.938583</td>\n",
       "      <td>71.938583</td>\n",
       "      <td>0</td>\n",
       "      <td>NaN</td>\n",
       "    </tr>\n",
       "    <tr>\n",
       "      <th>2020-01-07</th>\n",
       "      <td>72.036759</td>\n",
       "      <td>72.036759</td>\n",
       "      <td>0</td>\n",
       "      <td>NaN</td>\n",
       "    </tr>\n",
       "    <tr>\n",
       "      <th>2020-01-08</th>\n",
       "      <td>72.160222</td>\n",
       "      <td>72.160222</td>\n",
       "      <td>0</td>\n",
       "      <td>NaN</td>\n",
       "    </tr>\n",
       "    <tr>\n",
       "      <th>...</th>\n",
       "      <td>...</td>\n",
       "      <td>...</td>\n",
       "      <td>...</td>\n",
       "      <td>...</td>\n",
       "    </tr>\n",
       "    <tr>\n",
       "      <th>2024-12-23</th>\n",
       "      <td>250.802001</td>\n",
       "      <td>237.872186</td>\n",
       "      <td>1</td>\n",
       "      <td>NaN</td>\n",
       "    </tr>\n",
       "    <tr>\n",
       "      <th>2024-12-24</th>\n",
       "      <td>251.800597</td>\n",
       "      <td>238.959231</td>\n",
       "      <td>1</td>\n",
       "      <td>NaN</td>\n",
       "    </tr>\n",
       "    <tr>\n",
       "      <th>2024-12-26</th>\n",
       "      <td>253.432161</td>\n",
       "      <td>240.099896</td>\n",
       "      <td>1</td>\n",
       "      <td>NaN</td>\n",
       "    </tr>\n",
       "    <tr>\n",
       "      <th>2024-12-27</th>\n",
       "      <td>254.868695</td>\n",
       "      <td>241.152690</td>\n",
       "      <td>1</td>\n",
       "      <td>NaN</td>\n",
       "    </tr>\n",
       "    <tr>\n",
       "      <th>2024-12-30</th>\n",
       "      <td>255.141034</td>\n",
       "      <td>241.997070</td>\n",
       "      <td>1</td>\n",
       "      <td>NaN</td>\n",
       "    </tr>\n",
       "  </tbody>\n",
       "</table>\n",
       "<p>1257 rows × 4 columns</p>\n",
       "</div>"
      ],
      "text/plain": [
       "              fast_sma    slow_sma  signal  orders\n",
       "Date                                              \n",
       "2020-01-02   72.075580   72.075580       0     NaN\n",
       "2020-01-03   72.053832   72.053832       0     NaN\n",
       "2020-01-06   71.938583   71.938583       0     NaN\n",
       "2020-01-07   72.036759   72.036759       0     NaN\n",
       "2020-01-08   72.160222   72.160222       0     NaN\n",
       "...                ...         ...     ...     ...\n",
       "2024-12-23  250.802001  237.872186       1     NaN\n",
       "2024-12-24  251.800597  238.959231       1     NaN\n",
       "2024-12-26  253.432161  240.099896       1     NaN\n",
       "2024-12-27  254.868695  241.152690       1     NaN\n",
       "2024-12-30  255.141034  241.997070       1     NaN\n",
       "\n",
       "[1257 rows x 4 columns]"
      ]
     },
     "execution_count": 11,
     "metadata": {},
     "output_type": "execute_result"
    }
   ],
   "source": [
    "df_aapl = yfinance.download(\"AAPL\", start=\"2020-01-01\", end=\"2024-12-31\")\n",
    "df_aapl.columns = [col[0] for col in df_aapl.columns]\n",
    "df_aapl[\"ohlc_price\"] = df_aapl[[\"Close\", \"High\", \"Low\", \"Open\"]].mean(1)\n",
    "df_aapl[\"typical_price\"] = df_aapl[[\"Close\", \"High\", \"Low\"]].mean(1)\n",
    "df_aapl[\"median_price\"] = df_aapl[[\"High\", \"Low\"]].mean(1)\n",
    "\n",
    "df_aapl_signals = sma_crossover(df_aapl, \"ohlc_price\")\n",
    "\n",
    "df_aapl_signals"
   ]
  },
  {
   "cell_type": "code",
   "execution_count": 2,
   "id": "cb76c8fb-7914-41bf-9c74-71d96d780913",
   "metadata": {},
   "outputs": [
    {
     "data": {
      "text/plain": [
       "(np.float64(-918.9999999999999), np.float64(-1000.0))"
      ]
     },
     "execution_count": 2,
     "metadata": {},
     "output_type": "execute_result"
    }
   ],
   "source": [
    "import pandas as pd\n",
    "import sys\n",
    "sys.path.append(\"../\")\n",
    "from quant_research_toolbox.risk import ValueAtRisk\n",
    "var = ValueAtRisk(.99)\n",
    "data = pd.Series([100, -100, 10, -10, -20, -12, -10, -100, -1000, 5])\n",
    "var.historical_var(data)"
   ]
  },
  {
   "cell_type": "code",
   "execution_count": 7,
   "id": "92c358b3-0a5a-4ff4-b546-cd4737ed7126",
   "metadata": {},
   "outputs": [
    {
     "data": {
      "text/plain": [
       "np.float64(-10.0)"
      ]
     },
     "execution_count": 7,
     "metadata": {},
     "output_type": "execute_result"
    }
   ],
   "source": [
    "import numpy as np\n",
    "np.percentile(data,\n",
    "                            100*0.6)"
   ]
  },
  {
   "cell_type": "code",
   "execution_count": 3,
   "id": "00abf533-58df-410a-8d70-d767095501f8",
   "metadata": {},
   "outputs": [
    {
     "data": {
      "text/plain": [
       "(np.float64(-812.2213858624937), np.float64(686.5711682077922))"
      ]
     },
     "execution_count": 3,
     "metadata": {},
     "output_type": "execute_result"
    }
   ],
   "source": [
    "var.parametric_var(data)"
   ]
  },
  {
   "cell_type": "code",
   "execution_count": 4,
   "id": "87ea7650-09bd-4fbb-97a3-1d8df6eca48d",
   "metadata": {},
   "outputs": [
    {
     "name": "stderr",
     "output_type": "stream",
     "text": [
      "/home/onyxia/work/quant_research_toolbox/notebooks/../quant_research_toolbox/risk.py:101: RuntimeWarning: overflow encountered in exp\n",
      "  initial_investment*np.exp(np.cumsum(simulated_returns,\n",
      "/home/onyxia/work/quant_research_toolbox/notebooks/../quant_research_toolbox/risk.py:101: RuntimeWarning: overflow encountered in multiply\n",
      "  initial_investment*np.exp(np.cumsum(simulated_returns,\n",
      "/home/onyxia/work/quant_research_toolbox/notebooks/../quant_research_toolbox/risk.py:106: RuntimeWarning: invalid value encountered in divide\n",
      "  portfolio_values[-1]/portfolio_values[0]-1\n",
      "/home/onyxia/work/quant_research_toolbox/notebooks/../quant_research_toolbox/risk.py:112: RuntimeWarning: Mean of empty slice.\n",
      "  cvar = portfolio_returns[portfolio_returns <= var].mean()\n",
      "/opt/python/lib/python3.13/site-packages/numpy/_core/_methods.py:144: RuntimeWarning: invalid value encountered in scalar divide\n",
      "  ret = ret.dtype.type(ret / rcount)\n"
     ]
    },
    {
     "data": {
      "text/plain": [
       "(np.float64(nan), np.float64(nan))"
      ]
     },
     "execution_count": 4,
     "metadata": {},
     "output_type": "execute_result"
    }
   ],
   "source": [
    "var.monte_carlo_var(data)"
   ]
  }
 ],
 "metadata": {
  "kernelspec": {
   "display_name": "Python 3 (ipykernel)",
   "language": "python",
   "name": "python3"
  },
  "language_info": {
   "codemirror_mode": {
    "name": "ipython",
    "version": 3
   },
   "file_extension": ".py",
   "mimetype": "text/x-python",
   "name": "python",
   "nbconvert_exporter": "python",
   "pygments_lexer": "ipython3",
   "version": "3.13.5"
  }
 },
 "nbformat": 4,
 "nbformat_minor": 5
}
