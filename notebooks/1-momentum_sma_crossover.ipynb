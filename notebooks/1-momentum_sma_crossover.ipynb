{
 "cells": [
  {
   "cell_type": "code",
   "execution_count": 1,
   "id": "d8eecd4d-6493-4579-b928-4fce71c89df6",
   "metadata": {},
   "outputs": [],
   "source": [
    "%load_ext autoreload\n",
    "%autoreload 2"
   ]
  },
  {
   "cell_type": "code",
   "execution_count": 2,
   "id": "18049611-5dbc-44f8-9c65-8bcfe6368f68",
   "metadata": {},
   "outputs": [],
   "source": [
    "import pandas as pd\n",
    "import yfinance\n",
    "\n",
    "import sys\n",
    "sys.path.append(\"../quant_research_toolbox\")\n",
    "from strategies import *\n",
    "from utils import *\n",
    "from risk import *\n",
    "from plots import *"
   ]
  },
  {
   "cell_type": "code",
   "execution_count": 3,
   "id": "48bf108b-7b20-468a-b8fb-8d034deea944",
   "metadata": {},
   "outputs": [
    {
     "name": "stderr",
     "output_type": "stream",
     "text": [
      "/home/onyxia/work/quant_research_toolbox/notebooks/../quant_research_toolbox/utils.py:18: FutureWarning: YF.download() has changed argument auto_adjust default to True\n",
      "  df_ticker = yf.download(ticker_name, start=start_date, end=end_date)\n",
      "[*********************100%***********************]  1 of 1 completed\n"
     ]
    },
    {
     "data": {
      "text/html": [
       "<div>\n",
       "<style scoped>\n",
       "    .dataframe tbody tr th:only-of-type {\n",
       "        vertical-align: middle;\n",
       "    }\n",
       "\n",
       "    .dataframe tbody tr th {\n",
       "        vertical-align: top;\n",
       "    }\n",
       "\n",
       "    .dataframe thead th {\n",
       "        text-align: right;\n",
       "    }\n",
       "</style>\n",
       "<table border=\"1\" class=\"dataframe\">\n",
       "  <thead>\n",
       "    <tr style=\"text-align: right;\">\n",
       "      <th></th>\n",
       "      <th>close</th>\n",
       "      <th>high</th>\n",
       "      <th>low</th>\n",
       "      <th>open</th>\n",
       "      <th>volume</th>\n",
       "      <th>ohlc_price</th>\n",
       "      <th>typical_price</th>\n",
       "      <th>median_price</th>\n",
       "    </tr>\n",
       "    <tr>\n",
       "      <th>Date</th>\n",
       "      <th></th>\n",
       "      <th></th>\n",
       "      <th></th>\n",
       "      <th></th>\n",
       "      <th></th>\n",
       "      <th></th>\n",
       "      <th></th>\n",
       "      <th></th>\n",
       "    </tr>\n",
       "  </thead>\n",
       "  <tbody>\n",
       "    <tr>\n",
       "      <th>2015-01-02</th>\n",
       "      <td>24.288576</td>\n",
       "      <td>24.757330</td>\n",
       "      <td>23.848702</td>\n",
       "      <td>24.746222</td>\n",
       "      <td>212818400</td>\n",
       "      <td>24.410208</td>\n",
       "      <td>24.298203</td>\n",
       "      <td>24.303016</td>\n",
       "    </tr>\n",
       "    <tr>\n",
       "      <th>2015-01-05</th>\n",
       "      <td>23.604338</td>\n",
       "      <td>24.137518</td>\n",
       "      <td>23.417725</td>\n",
       "      <td>24.057541</td>\n",
       "      <td>257142000</td>\n",
       "      <td>23.804281</td>\n",
       "      <td>23.719860</td>\n",
       "      <td>23.777622</td>\n",
       "    </tr>\n",
       "    <tr>\n",
       "      <th>2015-01-06</th>\n",
       "      <td>23.606558</td>\n",
       "      <td>23.866483</td>\n",
       "      <td>23.244438</td>\n",
       "      <td>23.668762</td>\n",
       "      <td>263188400</td>\n",
       "      <td>23.596560</td>\n",
       "      <td>23.572493</td>\n",
       "      <td>23.555461</td>\n",
       "    </tr>\n",
       "    <tr>\n",
       "      <th>2015-01-07</th>\n",
       "      <td>23.937572</td>\n",
       "      <td>24.037543</td>\n",
       "      <td>23.704305</td>\n",
       "      <td>23.815385</td>\n",
       "      <td>160423600</td>\n",
       "      <td>23.873701</td>\n",
       "      <td>23.893140</td>\n",
       "      <td>23.870924</td>\n",
       "    </tr>\n",
       "    <tr>\n",
       "      <th>2015-01-08</th>\n",
       "      <td>24.857315</td>\n",
       "      <td>24.915077</td>\n",
       "      <td>24.148629</td>\n",
       "      <td>24.266374</td>\n",
       "      <td>237458000</td>\n",
       "      <td>24.546849</td>\n",
       "      <td>24.640340</td>\n",
       "      <td>24.531853</td>\n",
       "    </tr>\n",
       "  </tbody>\n",
       "</table>\n",
       "</div>"
      ],
      "text/plain": [
       "                close       high        low       open     volume  ohlc_price  \\\n",
       "Date                                                                            \n",
       "2015-01-02  24.288576  24.757330  23.848702  24.746222  212818400   24.410208   \n",
       "2015-01-05  23.604338  24.137518  23.417725  24.057541  257142000   23.804281   \n",
       "2015-01-06  23.606558  23.866483  23.244438  23.668762  263188400   23.596560   \n",
       "2015-01-07  23.937572  24.037543  23.704305  23.815385  160423600   23.873701   \n",
       "2015-01-08  24.857315  24.915077  24.148629  24.266374  237458000   24.546849   \n",
       "\n",
       "            typical_price  median_price  \n",
       "Date                                     \n",
       "2015-01-02      24.298203     24.303016  \n",
       "2015-01-05      23.719860     23.777622  \n",
       "2015-01-06      23.572493     23.555461  \n",
       "2015-01-07      23.893140     23.870924  \n",
       "2015-01-08      24.640340     24.531853  "
      ]
     },
     "execution_count": 3,
     "metadata": {},
     "output_type": "execute_result"
    }
   ],
   "source": [
    "df_aapl = load_ticker_data(\"AAPL\", start_date=\"2015-01-01\", end_date=\"2025-06-01\")\n",
    "df_aapl.head()"
   ]
  },
  {
   "cell_type": "code",
   "execution_count": 4,
   "id": "8d5d4178-7e28-4238-a6c8-8c4a8a9ceae2",
   "metadata": {},
   "outputs": [
    {
     "data": {
      "text/plain": [
       "<Axes: xlabel='Date'>"
      ]
     },
     "execution_count": 4,
     "metadata": {},
     "output_type": "execute_result"
    },
    {
     "data": {
      "image/png": "[encoded data removed]",
      "text/plain": [
       "<Figure size 640x480 with 1 Axes>"
      ]
     },
     "metadata": {},
     "output_type": "display_data"
    }
   ],
   "source": [
    "df_sc = Momentum.sma_crossover(df_aapl, \"ohlc_price\")\n",
    "df_sc[\"cumulative_returns\"].plot()"
   ]
  },
  {
   "cell_type": "code",
   "execution_count": 6,
   "id": "8a6b2dd7-7ed3-456b-84af-b95756d36890",
   "metadata": {},
   "outputs": [
    {
     "name": "stdout",
     "output_type": "stream",
     "text": [
      "-0.16717487409123188\n",
      "-0.10423260413628403\n",
      "521.0\n",
      "181.0\n",
      "186.88888888888889\n"
     ]
    }
   ],
   "source": [
    "print(Drawdown.max_drawdown(df_sc[\"cumulative_returns\"]))\n",
    "print(Drawdown.average_drawdown(df_sc[\"cumulative_returns\"]))\n",
    "print(Drawdown.drawdown_duration(df_sc[\"cumulative_returns\"]))\n",
    "print(Drawdown.drawdown_duration(df_sc[\"cumulative_returns\"], \"median\"))\n",
    "print(Drawdown.drawdown_duration(df_sc[\"cumulative_returns\"], \"mean\"))"
   ]
  },
  {
   "cell_type": "code",
   "execution_count": 11,
   "id": "4c9f8465-7acf-47e5-b9bc-b56dffda9ece",
   "metadata": {},
   "outputs": [
    {
     "data": {
      "text/plain": [
       "Date\n",
       "2023-04-20   -0.050806\n",
       "2023-04-21   -0.050806\n",
       "2023-04-24   -0.050806\n",
       "2023-04-25   -0.050806\n",
       "2023-04-26   -0.050806\n",
       "                ...   \n",
       "2025-05-23   -0.162574\n",
       "2025-05-27   -0.162574\n",
       "2025-05-28   -0.162574\n",
       "2025-05-29   -0.162574\n",
       "2025-05-30   -0.162574\n",
       "Name: cumulative_returns, Length: 530, dtype: float64"
      ]
     },
     "execution_count": 11,
     "metadata": {},
     "output_type": "execute_result"
    }
   ],
   "source": [
    "Drawdown.daily_drawdown(df_sc[\"cumulative_returns\"]).tail(530)"
   ]
  }
 ],
 "metadata": {
  "kernelspec": {
   "display_name": "Python 3 (ipykernel)",
   "language": "python",
   "name": "python3"
  },
  "language_info": {
   "codemirror_mode": {
    "name": "ipython",
    "version": 3
   },
   "file_extension": ".py",
   "mimetype": "text/x-python",
   "name": "python",
   "nbconvert_exporter": "python",
   "pygments_lexer": "ipython3",
   "version": "3.13.5"
  }
 },
 "nbformat": 4,
 "nbformat_minor": 5
}
